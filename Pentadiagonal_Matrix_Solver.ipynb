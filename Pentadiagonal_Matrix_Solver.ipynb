{
  "nbformat": 4,
  "nbformat_minor": 0,
  "metadata": {
    "colab": {
      "provenance": [],
      "collapsed_sections": [
        "0gDbDfyOUyp_",
        "UCjCKfHrU_IC",
        "8WBbhCr7VJSe",
        "qZ6mqXu9VWvA"
      ]
    },
    "kernelspec": {
      "name": "python3",
      "display_name": "Python 3"
    },
    "language_info": {
      "name": "python"
    }
  },
  "cells": [
    {
      "cell_type": "markdown",
      "source": [
        "---\n",
        "# **Gaussian Elimination (General Implementation):**\n",
        "\n",
        "> STEPS:\n",
        "1. Pivoting >>> Normalizing the Pivot Row\n",
        "2. Forward Elimination\n",
        "3. Backward Substitution\n"
      ],
      "metadata": {
        "id": "0gDbDfyOUyp_"
      }
    },
    {
      "cell_type": "code",
      "source": [
        "import numpy as np\n",
        "\n",
        "def gaussian_elimination_with_scaling(A, b):\n",
        "    A = A.astype(float)\n",
        "    b = b.astype(float)\n",
        "    n = len(b)\n",
        "\n",
        "    for i in range(n):\n",
        "        # Pivoting for stability\n",
        "        max_row = np.argmax(np.abs(A[i:, i])) + i\n",
        "        if i != max_row:\n",
        "            A[[i, max_row]] = A[[max_row, i]]\n",
        "            b[[i, max_row]] = b[[max_row, i]]\n",
        "\n",
        "        # Normalize pivot row\n",
        "        pivot = A[i, i]\n",
        "        if pivot == 0:\n",
        "            raise ValueError(\"Zero pivot encountered.\")\n",
        "        A[i] = A[i] / pivot\n",
        "        b[i] = b[i] / pivot\n",
        "\n",
        "        # Eliminate entries below\n",
        "        for j in range(i + 1, n):\n",
        "            factor = A[j, i]\n",
        "            A[j] = A[j] - factor * A[i]\n",
        "            b[j] = b[j] - factor * b[i]\n",
        "\n",
        "    return A, b\n",
        "\n",
        "def back_substitution(U, b):\n",
        "    n = len(b)\n",
        "    x = np.zeros(n)\n",
        "\n",
        "    for i in reversed(range(n)):\n",
        "        x[i] = b[i] - np.dot(U[i, i+1:], x[i+1:])\n",
        "        # Since diagonal is 1, no division needed\n",
        "\n",
        "    return x\n",
        "\n",
        "# Example usage\n",
        "A = np.array([[4, -1, -1, 0, 0, 0],\n",
        "              [-1, 4, -1, -1, 0, 0],\n",
        "              [-1, -1, 4, -1, -1, 0],\n",
        "              [0, -1, -1, 4, -1, -1],\n",
        "              [0, 0, -1, -1, 4, -1],\n",
        "              [0, 0, 0, -1, -1, 4]], dtype=float)\n",
        "b = np.array([5, 5, 5, 5, 5, 5], dtype=float)\n",
        "\n",
        "U, new_b = gaussian_elimination_with_scaling(A, b)\n",
        "x = back_substitution(U, new_b)\n",
        "\n",
        "print(\"Upper Triangular Matrix with Unit Diagonal:\")\n",
        "print(U)\n",
        "print(\"Modified RHS vector:\")\n",
        "print(new_b)\n",
        "print(\"Solution x:\")\n",
        "print(x)\n"
      ],
      "metadata": {
        "id": "VJCfJtf9U0kZ"
      },
      "execution_count": null,
      "outputs": []
    },
    {
      "cell_type": "markdown",
      "source": [
        "---\n",
        "# **Penta-diagonal Algorithm (General Implementation):**\n",
        "\n",
        "*NOTE: It is an O(n) implementation and takes input as matrix **'A'** and RHS **'b'**.*\n",
        "\n",
        "> STEPS:\n",
        "1. Pivoting >>> Normalizing the Pivot Row\n",
        "2. Forward Elimination\n",
        "3. Backward Substitution\n"
      ],
      "metadata": {
        "id": "UCjCKfHrU_IC"
      }
    },
    {
      "cell_type": "code",
      "source": [
        "import numpy as np\n",
        "\n",
        "def solve_pentadiagonal(A, b):\n",
        "    A = A.astype(float)\n",
        "    b = b.astype(float)\n",
        "    n = len(b)\n",
        "\n",
        "    for i in range(n):\n",
        "        # Pivoting for stability\n",
        "        max_row = np.argmax(np.abs(A[i:min(i+3, n), i])) + i  # only consider i, i+1, i+2\n",
        "        if i != max_row:\n",
        "            A[[i, max_row]] = A[[max_row, i]]\n",
        "            b[[i, max_row]] = b[[max_row, i]]\n",
        "\n",
        "        # Normalize pivot row (O(1) for penta-diagonal matrix)\n",
        "        pivot = A[i, i]\n",
        "        if pivot == 0:\n",
        "            raise ValueError(\"Zero pivot encountered.\")\n",
        "        A[i, i:i+5] = A[i, i:i+5] / pivot\n",
        "        b[i] = b[i] / pivot\n",
        "\n",
        "        # Eliminate entries below (only i+1 and i+2 for penta-diagonal, O(1) each)\n",
        "        for j in (i+1, i+2):\n",
        "            if j < n and A[j, i] != 0:\n",
        "                factor = A[j, i]\n",
        "                A[j, i:i+5] = A[j, i:i+5] - factor * A[i, i:i+5]\n",
        "                b[j] = b[j] - factor * b[i]\n",
        "\n",
        "    return A, b\n",
        "\n",
        "def back_substitution(U, b):\n",
        "    n = len(b)\n",
        "    x = np.zeros(n)\n",
        "\n",
        "    for i in reversed(range(n)):\n",
        "        x[i] = b[i] - np.dot(U[i, i+1:], x[i+1:])\n",
        "        # Since diagonal is 1, no division needed\n",
        "\n",
        "    return x\n",
        "\n",
        "\n",
        "# Example Usage\n",
        "A = np.array([\n",
        "    [4.10, 0.40, 0.50, 0.00, 0.00, 0.00, 0.00],\n",
        "    [3.60, 2.20, 1.00, 6.10, 0.00, 0.00, 0.00],\n",
        "    [0.20, 2.80, 6.20, 5.00, 2.90, 0.00, 0.00],\n",
        "    [0.00, 0.90, 3.10, 8.50, 4.90, 4.50, 0.00],\n",
        "    [0.00, 0.00, 4.00, 6.70, 3.80, 2.30, 0.70],\n",
        "    [0.00, 0.00, 0.00, 2.20, 1.20, 3.70, 5.10],\n",
        "    [0.00, 0.00, 0.00, 0.00, 1.10, 0.10, 2.10]], dtype=float)\n",
        "\n",
        "b = np.array([6.4, 35.4, 58.9, 96.6, 76.5, 72.7, 20.8], dtype=float)\n",
        "\n",
        "U, new_b = gaussian_elimination_with_scaling(A, b)\n",
        "x = back_substitution(U, new_b)\n",
        "\n",
        "print(\"Upper Triangular Matrix with Unit Diagonal:\")\n",
        "print(U, '\\n')\n",
        "print(\"Modified RHS vector:\")\n",
        "print(new_b, '\\n')\n",
        "print(\"Solution x:\")\n",
        "print(x, '\\n')\n"
      ],
      "metadata": {
        "id": "UjmKKCgWVHC4"
      },
      "execution_count": null,
      "outputs": []
    },
    {
      "cell_type": "markdown",
      "source": [
        "---\n",
        "More Examples\n",
        "---"
      ],
      "metadata": {
        "id": "8WBbhCr7VJSe"
      }
    },
    {
      "cell_type": "code",
      "source": [
        "# Example usage\n",
        "# A = np.array([[4, -1, -1, 0, 0, 0],\n",
        "#               [-1, 4, -1, -1, 0, 0],\n",
        "#               [-1, -1, 4, -1, -1, 0],\n",
        "#               [0, -1, -1, 4, -1, -1],\n",
        "#               [0, 0, -1, -1, 4, -1],\n",
        "#               [0, 0, 0, -1, -1, 4]], dtype=float)\n",
        "# b = np.array([5, 5, 5, 5, 5, 5], dtype=float)\n",
        "\n",
        "\n",
        "# A = np.array([\n",
        "#     [ 4., -1., -1.,  0.,  0.,  0.,  0.,  0.,  0.,  0.],\n",
        "#     [-1.,  4., -1., -1.,  0.,  0.,  0.,  0.,  0.,  0.],\n",
        "#     [-1., -1.,  4., -1., -1.,  0.,  0.,  0.,  0.,  0.],\n",
        "#     [ 0., -1., -1.,  4., -1., -1.,  0.,  0.,  0.,  0.],\n",
        "#     [ 0.,  0., -1., -1.,  4., -1., -1.,  0.,  0.,  0.],\n",
        "#     [ 0.,  0.,  0., -1., -1.,  4., -1., -1.,  0.,  0.],\n",
        "#     [ 0.,  0.,  0.,  0., -1., -1.,  4., -1., -1.,  0.],\n",
        "#     [ 0.,  0.,  0.,  0.,  0., -1., -1.,  4., -1., -1.],\n",
        "#     [ 0.,  0.,  0.,  0.,  0.,  0., -1., -1.,  4., -1.],\n",
        "#     [ 0.,  0.,  0.,  0.,  0.,  0.,  0., -1., -1.,  4.]\n",
        "# ], dtype=float)\n",
        "\n",
        "# b = np.array([5, 5, 5, 5, 5, 5, 5, 5, 5, 5], dtype=float)"
      ],
      "metadata": {
        "id": "1qKnRKkNVU7H"
      },
      "execution_count": null,
      "outputs": []
    },
    {
      "cell_type": "markdown",
      "source": [
        "---\n",
        "# **Penta-diagonal Algorithm (General Implementation):**\n",
        "\n",
        "*NOTE: It is an O(n) implementation and takes input as arrays **'ll'**, **'l'**, **'d'**, **'u'**, **'uu'** and RHS **'b'**.*\n",
        "\n",
        "> STEPS:\n",
        "1. Forward Elimination\n",
        "2. Backward Substitution"
      ],
      "metadata": {
        "id": "qZ6mqXu9VWvA"
      }
    },
    {
      "cell_type": "code",
      "source": [
        "import numpy as np\n",
        "\n",
        "### Function to solve the pentadiagonal matrix system using Thomas Algorithm ###\n",
        "def tdma(num, dia, upp1, upp2, low1, low2, rhs, mat):\n",
        "    \"\"\" Solves a pentadiagonal matrix system using Thomas Algorithm. \"\"\"\n",
        "\n",
        "    P = np.zeros(num)\n",
        "    Q = np.zeros(num)\n",
        "    R = np.zeros(num)\n",
        "\n",
        "    # Forward elimination\n",
        "    P[0] = upp1[0] / dia[0]\n",
        "    Q[0] = upp2[0] / dia[0]\n",
        "    R[0] = rhs[0] / dia[0]\n",
        "\n",
        "    P[1] = (upp1[1] - low1[1] * Q[0]) / (dia[1] - low1[1] * P[0])\n",
        "    Q[1] =            upp2[1]         / (dia[1] - low1[1] * P[0])\n",
        "    R[1] =  (rhs[1] - low1[1] * R[0]) / (dia[1] - low1[1] * P[0])\n",
        "\n",
        "    for i in range(2, num):\n",
        "        denom = dia[i] - low1[i] * P[i-1] - low2[i] * Q[i-2] + low2[i] * P[i-2] * P[i-1]\n",
        "        P[i] = (upp1[i] - low1[i] * Q[i-1] + low2[i] * P[i-2] * Q[i-1]) / denom\n",
        "        Q[i] =                           upp2[i] / denom\n",
        "        R[i] = (rhs[i] - low1[i] * R[i-1] - low2[i] * R[i-2] + low2[i] * P[i-2] * R[i-1]) / denom\n",
        "\n",
        "    # Backward Substitution\n",
        "    mat[-1] = R[-1]\n",
        "    mat[-2] = R[-2] - P[-2] * mat[-1]\n",
        "    for i in range(num-3, -1, -1):\n",
        "        mat[i] = R[i] - P[i] * mat[i+1] - Q[i] * mat[i+2]\n",
        "\n",
        "    return mat\n",
        "\n",
        "\n",
        "# Define the diagonals and RHS vector\n",
        "dia  = np.array([4.10, 2.20, 6.20, 8.50, 3.80, 3.70, 2.10])\n",
        "upp1 = np.array([0.40, 1.00, 5.00, 4.90, 2.30, 5.10, 0.00])\n",
        "upp2 = np.array([0.50, 6.10, 2.90, 4.50, 0.70, 0.00, 0.00])\n",
        "low1 = np.array([0.00, 3.60, 2.80, 3.10, 6.70, 1.20, 0.10])\n",
        "low2 = np.array([0.00, 0.00, 0.20, 0.90, 4.00, 2.20, 1.10])\n",
        "rhs  = np.array([6.40, 35.4, 58.9, 96.6, 76.5, 72.7, 20.8])\n",
        "\n",
        "num = len(dia)\n",
        "mat = np.zeros(num)\n",
        "\n",
        "# Solve the pentadiagonal matrix system\n",
        "solution = tdma(num, dia, upp1, upp2, low1, low2, rhs, mat)\n",
        "\n",
        "print(\"Solution x:\", solution)   # Should output [1, 2, 3, 4, 5, 6, 7]\n"
      ],
      "metadata": {
        "colab": {
          "base_uri": "https://localhost:8080/"
        },
        "id": "DcyuMkGGVcOy",
        "outputId": "29a31384-562f-408c-90d8-838c5d70732f"
      },
      "execution_count": null,
      "outputs": [
        {
          "output_type": "stream",
          "name": "stdout",
          "text": [
            "Solution x: [1. 2. 3. 4. 5. 6. 7.]\n"
          ]
        }
      ]
    }
  ]
}